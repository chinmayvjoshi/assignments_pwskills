{
  "nbformat": 4,
  "nbformat_minor": 0,
  "metadata": {
    "colab": {
      "provenance": [],
      "authorship_tag": "ABX9TyNp5jCuKrm1oY3rauaXNutu",
      "include_colab_link": true
    },
    "kernelspec": {
      "name": "python3",
      "display_name": "Python 3"
    },
    "language_info": {
      "name": "python"
    }
  },
  "cells": [
    {
      "cell_type": "markdown",
      "metadata": {
        "id": "view-in-github",
        "colab_type": "text"
      },
      "source": [
        "<a href=\"https://colab.research.google.com/github/chinmayvjoshi/assignments_pwskills/blob/main/for_loop_assignment_pwskills.ipynb\" target=\"_parent\"><img src=\"https://colab.research.google.com/assets/colab-badge.svg\" alt=\"Open In Colab\"/></a>"
      ]
    },
    {
      "cell_type": "markdown",
      "source": [
        "# Basic Level:"
      ],
      "metadata": {
        "id": "MeP_X_qqjD7E"
      }
    },
    {
      "cell_type": "markdown",
      "source": [
        "1. Write a Python program to print the numbers from 1 to 10 using a `for` loop.\n",
        "2. Create a program that calculates the sum of all numbers in a list using a `for` loop.\n",
        "3. Write a program to print the characters of a string in reverse order using a `for` loop.\n",
        "4. Develop a program that finds the factorial of a given number using a `for` loop.\n",
        "5. Create a program to print the multiplication table of a given number using a `for` loop.\n",
        "6. Write a program that counts the number of even and odd numbers in a list using a `for` loop.\n",
        "7. Develop a program that prints the squares of numbers from 1 to 5 using a `for` loop.\n",
        "8. Create a program to find the length of a string without using the `len()` function.\n",
        "9. Write a program that calculates the average of a list of numbers using a `for` loop.\n",
        "10. Develop a program that prints the first `n` Fibonacci numbers using a `for` loop."
      ],
      "metadata": {
        "id": "gMS4sg0AjJ3B"
      }
    },
    {
      "cell_type": "code",
      "execution_count": null,
      "metadata": {
        "colab": {
          "base_uri": "https://localhost:8080/"
        },
        "id": "Pv4RHvTpi7uk",
        "outputId": "b7f5c0da-608c-4302-c71c-fa0fb9a09be1"
      },
      "outputs": [
        {
          "output_type": "stream",
          "name": "stdout",
          "text": [
            "1\n",
            "2\n",
            "3\n",
            "4\n",
            "5\n",
            "6\n",
            "7\n",
            "8\n",
            "9\n",
            "10\n"
          ]
        }
      ],
      "source": [
        "# A simple program to print the numbers from 1 to 10 using a for loop\n",
        "for i in range(1, 11): # range(1, 11) generates the numbers from 1 to 10\n",
        "    print(i) # print each number\n"
      ]
    },
    {
      "cell_type": "code",
      "source": [
        "# A program to calculate the sum of all numbers in a list using a for loop\n",
        "numbers = [5, 8, 3, 9, 2, 7] # a list of numbers\n",
        "sum = 0 # initialize the sum to zero\n",
        "for num in numbers: # iterate over each number in the list\n",
        "    sum = sum + num # add the number to the sum\n",
        "print(\"The sum of the numbers is\", sum) # print the final sum\n"
      ],
      "metadata": {
        "colab": {
          "base_uri": "https://localhost:8080/"
        },
        "id": "DSrDGwyejSnu",
        "outputId": "7e954cbd-e614-464d-80cb-284d17211b91"
      },
      "execution_count": null,
      "outputs": [
        {
          "output_type": "stream",
          "name": "stdout",
          "text": [
            "The sum of the numbers is 34\n"
          ]
        }
      ]
    },
    {
      "cell_type": "code",
      "source": [
        "# A program to print the characters of a string in reverse order using a for loop\n",
        "string = \"Hello World\" # a string\n",
        "reverse = \"\" # an empty string to store the reverse\n",
        "for char in string: # iterate over each character in the string\n",
        "    reverse = char + reverse # prepend the character to the reverse\n",
        "print(\"The reverse of the string is\", reverse) # print the reverse string\n"
      ],
      "metadata": {
        "colab": {
          "base_uri": "https://localhost:8080/"
        },
        "id": "rO1LHFOBjTC6",
        "outputId": "8a28cfee-9b7e-4188-c012-a3734d51e2d9"
      },
      "execution_count": null,
      "outputs": [
        {
          "output_type": "stream",
          "name": "stdout",
          "text": [
            "The reverse of the string is dlroW olleH\n"
          ]
        }
      ]
    },
    {
      "cell_type": "code",
      "source": [
        "# A program to find the factorial of a given number using a for loop\n",
        "n = 5 # a positive integer\n",
        "factorial = 1 # initialize the factorial to one\n",
        "for i in range(1, n + 1): # range(1, n + 1) generates the numbers from 1 to n\n",
        "    factorial = factorial * i # multiply the factorial by each number\n",
        "print(\"The factorial of\", n, \"is\", factorial) # print the factorial of n\n"
      ],
      "metadata": {
        "colab": {
          "base_uri": "https://localhost:8080/"
        },
        "id": "szhkvf_AjTVv",
        "outputId": "45ceb1b8-30a1-4234-f8de-39b94506b6a8"
      },
      "execution_count": null,
      "outputs": [
        {
          "output_type": "stream",
          "name": "stdout",
          "text": [
            "The factorial of 5 is 120\n"
          ]
        }
      ]
    },
    {
      "cell_type": "code",
      "source": [
        "# A program to print the multiplication table of a given number using a for loop\n",
        "n = 7 # a positive integer\n",
        "for i in range(1, 11): # range(1, 11) generates the numbers from 1 to 10\n",
        "    product = n * i # calculate the product of n and i\n",
        "    print(n, \"x\", i, \"=\", product) # print each row of the table\n"
      ],
      "metadata": {
        "colab": {
          "base_uri": "https://localhost:8080/"
        },
        "id": "wV41XRptjTtD",
        "outputId": "351b2d3b-d23c-406a-85b0-b9884913ffc2"
      },
      "execution_count": null,
      "outputs": [
        {
          "output_type": "stream",
          "name": "stdout",
          "text": [
            "7 x 1 = 7\n",
            "7 x 2 = 14\n",
            "7 x 3 = 21\n",
            "7 x 4 = 28\n",
            "7 x 5 = 35\n",
            "7 x 6 = 42\n",
            "7 x 7 = 49\n",
            "7 x 8 = 56\n",
            "7 x 9 = 63\n",
            "7 x 10 = 70\n"
          ]
        }
      ]
    },
    {
      "cell_type": "code",
      "source": [
        "# A program to count the number of even and odd numbers in a list using a for loop\n",
        "numbers = [4, 6, 9, 3, 8, 5] # a list of numbers\n",
        "even_count = 0 # initialize the count of even numbers to zero\n",
        "odd_count = 0 # initialize the count of odd numbers to zero\n",
        "for num in numbers: # iterate over each number in the list\n",
        "    if num % 2 == 0: # check if the number is divisible by two (even)\n",
        "        even_count = even_count + 1 # increment the count of even numbers by one\n",
        "    else: # otherwise (odd)\n",
        "        odd_count = odd_count + 1 # increment the count of odd numbers by one\n",
        "print(\"The number of even numbers is\", even_count) # print the count of even numbers\n",
        "print(\"The number of odd numbers is\", odd_count) # print the count of odd numbers\n",
        "\n"
      ],
      "metadata": {
        "colab": {
          "base_uri": "https://localhost:8080/"
        },
        "id": "T5Ktoc3SjUFD",
        "outputId": "c409c22b-a605-4b6d-978e-1927fe0ef02f"
      },
      "execution_count": null,
      "outputs": [
        {
          "output_type": "stream",
          "name": "stdout",
          "text": [
            "The number of even numbers is 3\n",
            "The number of odd numbers is 3\n"
          ]
        }
      ]
    },
    {
      "cell_type": "code",
      "source": [
        "\n",
        "# A program to print the squares of numbers from 1 to 5 using a for loop\n",
        "\n",
        "for i in range(1,6):   # range(1,6) generates the numbers from 1 to 5\n",
        "    square = i * i     # calculate the square of i\n",
        "    print(i,\"squared is\",square)   # print each square\n"
      ],
      "metadata": {
        "colab": {
          "base_uri": "https://localhost:8080/"
        },
        "id": "Qz57JnsrjUXR",
        "outputId": "79c197db-2d12-4b35-dd7e-eec2eeb741dc"
      },
      "execution_count": null,
      "outputs": [
        {
          "output_type": "stream",
          "name": "stdout",
          "text": [
            "1 squared is 1\n",
            "2 squared is 4\n",
            "3 squared is 9\n",
            "4 squared is 16\n",
            "5 squared is 25\n"
          ]
        }
      ]
    },
    {
      "cell_type": "code",
      "source": [
        "\n",
        "# A program to find the length of a string without using len() function\n",
        "\n",
        "string = \"Python\"   #a string\n",
        "length = 0          #initialize length to zero\n",
        "for char in string:   #iterate over each character in string\n",
        "    length = length + 1   #increment length by one\n",
        "print(\"The length of\",string,\"is\",length)   #print length\n"
      ],
      "metadata": {
        "colab": {
          "base_uri": "https://localhost:8080/"
        },
        "id": "QTTLqu3djUte",
        "outputId": "a9e48eb6-f5fc-4ab4-8497-5db3695fad73"
      },
      "execution_count": null,
      "outputs": [
        {
          "output_type": "stream",
          "name": "stdout",
          "text": [
            "The length of Python is 6\n"
          ]
        }
      ]
    },
    {
      "cell_type": "code",
      "source": [
        "\n",
        "# A program to calculate the average of a list of numbers using a for loop\n",
        "\n",
        "numbers = [10, 20, 30, 40, 50]   #a list of numbers\n",
        "sum = 0                          #initialize sum to zero\n",
        "count = 0                        #initialize count to zero\n",
        "for num in numbers:              #iterate over each number in the list\n",
        "    sum = sum + num              #add the number to the sum\n",
        "    count = count + 1            #increment the count by one\n",
        "average = sum / count            #calculate the average by dividing sum by count\n",
        "print(\"The average of the numbers is\",average)   #print the average\n"
      ],
      "metadata": {
        "colab": {
          "base_uri": "https://localhost:8080/"
        },
        "id": "K-zBrEYXjVFf",
        "outputId": "2b172e04-f5e6-4639-ff30-a1c0e03def2d"
      },
      "execution_count": null,
      "outputs": [
        {
          "output_type": "stream",
          "name": "stdout",
          "text": [
            "The average of the numbers is 30.0\n"
          ]
        }
      ]
    },
    {
      "cell_type": "code",
      "source": [
        "\n",
        "# A program to print the first n Fibonacci numbers using a for loop\n",
        "\n",
        "n = 10   #a positive integer\n",
        "a = 0    #the first Fibonacci number\n",
        "b = 1    #the second Fibonacci number\n",
        "print(a) #print the first Fibonacci number\n",
        "print(b) #print the second Fibonacci number\n",
        "for i in range(3, n + 1):   #range(3, n + 1) generates the numbers from 3 to n\n",
        "    c = a + b               #calculate the next Fibonacci number by adding the previous two\n",
        "    print(c)                #print the next Fibonacci number\n",
        "    a = b                   #update a to be b\n",
        "    b = c                   #update b to be c\n",
        "\n"
      ],
      "metadata": {
        "colab": {
          "base_uri": "https://localhost:8080/"
        },
        "id": "TCyOvOAijVao",
        "outputId": "b3dad375-9f21-45e9-a042-62a55eda57a2"
      },
      "execution_count": null,
      "outputs": [
        {
          "output_type": "stream",
          "name": "stdout",
          "text": [
            "0\n",
            "1\n",
            "1\n",
            "2\n",
            "3\n",
            "5\n",
            "8\n",
            "13\n",
            "21\n",
            "34\n"
          ]
        }
      ]
    },
    {
      "cell_type": "markdown",
      "source": [],
      "metadata": {
        "id": "bMN7lpnDjDOH"
      }
    },
    {
      "cell_type": "markdown",
      "source": [
        "# Intermediate Level:\n"
      ],
      "metadata": {
        "id": "soWk1ToDj_BS"
      }
    },
    {
      "cell_type": "markdown",
      "source": [
        "11. Write a program to check if a given list contains any duplicates using a `for` loop.\n",
        "12. Create a program that prints the prime numbers in a given range using a `for` loop.\n",
        "13. Develop a program that counts the number of vowels in a string using a `for` loop.\n",
        "14. Write a program to find the maximum element in a 2D list using a nested `for` loop.\n",
        "15. Create a program that removes all occurrences of a specific element from a list using a `for` loop.\n",
        "16. Develop a program that generates a multiplication table for numbers from 1 to 5 using a nested `for` loop.\n",
        "17. Write a program that converts a list of Fahrenheit temperatures to Celsius using a `for` loop.\n",
        "18. Create a program to print the common elements from two lists using a `for` loop.\n",
        "19. Develop a program that prints the pattern of right-angled triangles using a `for` loop. Use ‘*’ to draw the\n",
        "pattern\n",
        "20. Write a program to find the greatest common divisor (GCD) of two numbers using a `for` loop."
      ],
      "metadata": {
        "id": "0b6ytSMdkHPh"
      }
    },
    {
      "cell_type": "code",
      "source": [
        "# A program to check if a given list contains any duplicates using a for loop\n",
        "numbers = [1, 2, 3, 4, 5, 3] # a list of numbers\n",
        "duplicates = False # initialize duplicates to False\n",
        "for i in range(len(numbers)): # iterate over the indices of the list\n",
        "    for j in range(i + 1, len(numbers)): # iterate over the remaining indices of the list\n",
        "        if numbers[i] == numbers[j]: # compare the elements at i and j\n",
        "            duplicates = True # set duplicates to True\n",
        "            break # break out of the inner loop\n",
        "    if duplicates: # check if duplicates is True\n",
        "        break # break out of the outer loop\n",
        "if duplicates: # check if duplicates is True\n",
        "    print(\"The list contains duplicates\") # print that the list contains duplicates\n",
        "else: # otherwise\n",
        "    print(\"The list does not contain duplicates\") # print that the list does not contain duplicates\n"
      ],
      "metadata": {
        "colab": {
          "base_uri": "https://localhost:8080/"
        },
        "id": "Ir3Kz-qhkUF8",
        "outputId": "399b4f2b-587f-45af-87d9-c9996559c9bd"
      },
      "execution_count": null,
      "outputs": [
        {
          "output_type": "stream",
          "name": "stdout",
          "text": [
            "The list contains duplicates\n"
          ]
        }
      ]
    },
    {
      "cell_type": "code",
      "source": [
        "# A program that prints the prime numbers in a given range using a for loop\n",
        "start = 10 # the starting number of the range (inclusive)\n",
        "end = 30 # the ending number of the range (inclusive)\n",
        "print(\"The prime numbers between\", start, \"and\", end, \"are:\") # print a message\n",
        "for num in range(start, end + 1): # iterate over the numbers in the range\n",
        "    prime = True # initialize prime to True\n",
        "    for i in range(2, int(num ** 0.5) + 1): # iterate over the possible divisors from 2 to sqrt(num)\n",
        "        if num % i == 0: # check if num is divisible by i\n",
        "            prime = False # set prime to False\n",
        "            break # break out of the loop\n",
        "    if prime and num > 1: # check if prime is True and num is greater than 1\n",
        "        print(num) # print the prime number\n"
      ],
      "metadata": {
        "colab": {
          "base_uri": "https://localhost:8080/"
        },
        "id": "grd5kihhkUVi",
        "outputId": "dfddd405-4f1b-41d4-aa8b-c694a5fd1c93"
      },
      "execution_count": null,
      "outputs": [
        {
          "output_type": "stream",
          "name": "stdout",
          "text": [
            "The prime numbers between 10 and 30 are:\n",
            "11\n",
            "13\n",
            "17\n",
            "19\n",
            "23\n",
            "29\n"
          ]
        }
      ]
    },
    {
      "cell_type": "code",
      "source": [
        "\n",
        "# A program that counts the number of vowels in a string using a for loop\n",
        "\n",
        "string = \"Python is awesome\"   #a string\n",
        "vowels = \"aeiou\"               #a string of vowels\n",
        "count = 0                      #initialize count to zero\n",
        "for char in string:            #iterate over each character in string\n",
        "    if char.lower() in vowels:   #check if the lowercased character is in vowels\n",
        "        count = count + 1        #increment count by one\n",
        "print(\"The number of vowels in\",string,\"is\",count)   #print count\n",
        "\n"
      ],
      "metadata": {
        "colab": {
          "base_uri": "https://localhost:8080/"
        },
        "id": "wKgfg5SakUmq",
        "outputId": "a232d057-000e-4b62-f7e0-e6cd23143ff2"
      },
      "execution_count": null,
      "outputs": [
        {
          "output_type": "stream",
          "name": "stdout",
          "text": [
            "The number of vowels in Python is awesome is 6\n"
          ]
        }
      ]
    },
    {
      "cell_type": "code",
      "source": [
        "\n",
        "# A program to find the maximum element in a 2D list using a nested for loop\n",
        "\n",
        "matrix = [[1, 2, 3], [4, 5, 6], [7, 8, 9]]   #a 2D list\n",
        "maximum = matrix[0][0]                      #initialize maximum to the first element\n",
        "for row in matrix:                          #iterate over each row in matrix\n",
        "    for element in row:                     #iterate over each element in row\n",
        "        if element > maximum:               #check if element is greater than maximum\n",
        "            maximum = element               #update maximum to element\n",
        "print(\"The maximum element in the matrix is\",maximum)   #print maximum\n",
        "\n"
      ],
      "metadata": {
        "colab": {
          "base_uri": "https://localhost:8080/"
        },
        "id": "L7UytvROkU31",
        "outputId": "d6b659bf-c4a1-470e-acc6-48be570a06b6"
      },
      "execution_count": null,
      "outputs": [
        {
          "output_type": "stream",
          "name": "stdout",
          "text": [
            "The maximum element in the matrix is 9\n"
          ]
        }
      ]
    },
    {
      "cell_type": "code",
      "source": [
        "\n",
        "# A program that removes all occurrences of a specific element from a list using a for loop\n",
        "\n",
        "numbers = [1, 2, 3, 4, 5, 4, 3, 2, 1]   #a list of numbers\n",
        "element = 2                             #the element to be removed\n",
        "new_list = []                           #an empty list to store the new list\n",
        "for num in numbers:                     #iterate over each number in numbers\n",
        "    if num != element:                  #check if number is not equal to element\n",
        "        new_list.append(num)            #append number to new_list\n",
        "print(\"The new list after removing\",element,\"is\",new_list)   #print new_list\n",
        "\n"
      ],
      "metadata": {
        "colab": {
          "base_uri": "https://localhost:8080/"
        },
        "id": "2xg3FddDkVHh",
        "outputId": "c5307df3-b34a-4454-fb50-77cfc9aa56cc"
      },
      "execution_count": null,
      "outputs": [
        {
          "output_type": "stream",
          "name": "stdout",
          "text": [
            "The new list after removing 2 is [1, 3, 4, 5, 4, 3, 1]\n"
          ]
        }
      ]
    },
    {
      "cell_type": "code",
      "source": [
        "\n",
        "# A program that generates a multiplication table for numbers from 1 to 5 using a nested for loop\n",
        "\n",
        "for i in range(1,6):   #range(1,6) generates the numbers from 1 to 5\n",
        "    for j in range(1,11):   #range(1,11) generates the numbers from 1 to 10\n",
        "        product = i * j     #calculate the product of i and j\n",
        "        print(i,\"x\",j,\"=\",product,end=\"\\t\")   #print each product with a tab space\n",
        "    print()   #print a new line\n",
        "\n"
      ],
      "metadata": {
        "colab": {
          "base_uri": "https://localhost:8080/"
        },
        "id": "ptJ_MrLxkVXo",
        "outputId": "66efa850-47b8-4821-9690-6444d0592b3e"
      },
      "execution_count": null,
      "outputs": [
        {
          "output_type": "stream",
          "name": "stdout",
          "text": [
            "1 x 1 = 1\t1 x 2 = 2\t1 x 3 = 3\t1 x 4 = 4\t1 x 5 = 5\t1 x 6 = 6\t1 x 7 = 7\t1 x 8 = 8\t1 x 9 = 9\t1 x 10 = 10\t\n",
            "2 x 1 = 2\t2 x 2 = 4\t2 x 3 = 6\t2 x 4 = 8\t2 x 5 = 10\t2 x 6 = 12\t2 x 7 = 14\t2 x 8 = 16\t2 x 9 = 18\t2 x 10 = 20\t\n",
            "3 x 1 = 3\t3 x 2 = 6\t3 x 3 = 9\t3 x 4 = 12\t3 x 5 = 15\t3 x 6 = 18\t3 x 7 = 21\t3 x 8 = 24\t3 x 9 = 27\t3 x 10 = 30\t\n",
            "4 x 1 = 4\t4 x 2 = 8\t4 x 3 = 12\t4 x 4 = 16\t4 x 5 = 20\t4 x 6 = 24\t4 x 7 = 28\t4 x 8 = 32\t4 x 9 = 36\t4 x 10 = 40\t\n",
            "5 x 1 = 5\t5 x 2 = 10\t5 x 3 = 15\t5 x 4 = 20\t5 x 5 = 25\t5 x 6 = 30\t5 x 7 = 35\t5 x 8 = 40\t5 x 9 = 45\t5 x 10 = 50\t\n"
          ]
        }
      ]
    },
    {
      "cell_type": "code",
      "source": [
        "\n",
        "# A program that converts a list of Fahrenheit temperatures to Celsius using a for loop\n",
        "\n",
        "fahrenheit = [32, 50, 68, 86, 104]   #a list of Fahrenheit temperatures\n",
        "celsius = []                         #an empty list to store the Celsius temperatures\n",
        "for f in fahrenheit:                 #iterate over each Fahrenheit temperature\n",
        "    c = (f - 32) * 5 / 9             #calculate the corresponding Celsius temperature\n",
        "    celsius.append(c)                #append the Celsius temperature to celsius\n",
        "print(\"The list of Celsius temperatures is\",celsius)   #print celsius\n",
        "\n"
      ],
      "metadata": {
        "colab": {
          "base_uri": "https://localhost:8080/"
        },
        "id": "dk-eLEtOkVoB",
        "outputId": "b13255d7-83d9-41f7-df3d-bbf94c97d80a"
      },
      "execution_count": null,
      "outputs": [
        {
          "output_type": "stream",
          "name": "stdout",
          "text": [
            "The list of Celsius temperatures is [0.0, 10.0, 20.0, 30.0, 40.0]\n"
          ]
        }
      ]
    },
    {
      "cell_type": "code",
      "source": [
        "\n",
        "# A program to print the common elements from two lists using a for loop\n",
        "\n",
        "list1 = [1, 2, 3, 4, 5]   #the first list\n",
        "list2 = [3, 4, 5, 6, 7]   #the second list\n",
        "common = []               #an empty list to store the common elements\n",
        "for element in list1:     #iterate over each element in list1\n",
        "    if element in list2:  #check if element is also in list2\n",
        "        common.append(element)   #append element to common\n",
        "print(\"The common elements from the two lists are\",common)   #print common\n",
        "\n"
      ],
      "metadata": {
        "colab": {
          "base_uri": "https://localhost:8080/"
        },
        "id": "4auxRQjUkV4O",
        "outputId": "fdfa5c44-0ca3-4162-9e65-52e655716bb9"
      },
      "execution_count": null,
      "outputs": [
        {
          "output_type": "stream",
          "name": "stdout",
          "text": [
            "The common elements from the two lists are [3, 4, 5]\n"
          ]
        }
      ]
    },
    {
      "cell_type": "code",
      "source": [
        "\n",
        "# A program that prints the pattern of right-angled triangles using a for loop\n",
        "# Use '*' to draw the pattern\n",
        "\n",
        "n = 5   #the number of rows for the triangle\n",
        "for i in range(1,n + 1):   #range(1,n + 1) generates the numbers from 1 to n\n",
        "    for j in range(i):     #range(i) generates the numbers from 0 to i - 1\n",
        "        print(\"*\",end=\"\")  #print '*' without a new line\n",
        "    print()                #print a new line\n",
        "\n"
      ],
      "metadata": {
        "colab": {
          "base_uri": "https://localhost:8080/"
        },
        "id": "6c5ufQvekWWq",
        "outputId": "8a877fc4-876c-4ea9-cc69-27642cb2ede0"
      },
      "execution_count": null,
      "outputs": [
        {
          "output_type": "stream",
          "name": "stdout",
          "text": [
            "*\n",
            "**\n",
            "***\n",
            "****\n",
            "*****\n"
          ]
        }
      ]
    },
    {
      "cell_type": "code",
      "source": [
        "\n",
        "# A program to find the greatest common divisor (GCD) of two numbers using a for loop\n",
        "\n",
        "a = 12   #the first number\n",
        "b = 18   #the second number\n",
        "gcd = 1  #initialize gcd to one\n",
        "for i in range(2,min(a,b) + 1):   #range(2,min(a,b) + 1) generates the numbers from 2 to min(a,b)\n",
        "    if a % i == 0 and b % i == 0:   #check if i is a common divisor of both a and b\n",
        "        gcd = i                     #update gcd to i\n",
        "print(\"The GCD of\",a,\"and\",b,\"is\",gcd)   #print gcd\n",
        "\n"
      ],
      "metadata": {
        "colab": {
          "base_uri": "https://localhost:8080/"
        },
        "id": "wgWeExySkWoD",
        "outputId": "12f50855-97d3-4f22-c438-2228285ea4ff"
      },
      "execution_count": null,
      "outputs": [
        {
          "output_type": "stream",
          "name": "stdout",
          "text": [
            "The GCD of 12 and 18 is 6\n"
          ]
        }
      ]
    },
    {
      "cell_type": "markdown",
      "source": [
        "# Advanced Level:\n"
      ],
      "metadata": {
        "id": "AiJRCi-GlCpK"
      }
    },
    {
      "cell_type": "markdown",
      "source": [
        "21. Create a program that calculates the sum of the digits of numbers in a list using a list comprehension.\n",
        "22. Write a program to find the prime factors of a given number using a `for` loop and list comprehension.\n",
        "23. Develop a program that extracts unique elements from a list and stores them in a new list using a list\n",
        "comprehension.\n",
        "24. Create a program that generates a list of all palindromic numbers up to a specified limit using a list\n",
        "comprehension.\n",
        "25. Write a program to flatten a nested list using list comprehension.\n",
        "26. Develop a program that computes the sum of even and odd numbers in a list separately using list\n",
        "comprehension.\n",
        "27. Create a program that generates a list of squares of odd numbers between 1 and 10 using list\n",
        "comprehension.\n",
        "28. Write a program that combines two lists into a dictionary using list comprehension.\n",
        "29. Develop a program that extracts the vowels from a string and stores them in a list using list comprehension.\n",
        "30. Create a program that removes all non-numeric characters from a list of strings using list comprehension."
      ],
      "metadata": {
        "id": "hXxrWs6IlJQn"
      }
    },
    {
      "cell_type": "code",
      "source": [
        "# A program to find the prime factors of a given number using a for loop and list comprehension\n",
        "n = 60 # a positive integer\n",
        "factors = [] # an empty list to store the prime factors\n",
        "for i in range(2, int(n ** 0.5) + 1): # iterate over the possible divisors from 2 to sqrt(n)\n",
        "    if n % i == 0: # check if n is divisible by i\n",
        "        factors.extend([i] + [n // i]) # add i and n / i to the factors list\n",
        "factors = [f for f in factors if all(f % p != 0 for p in range(2, int(f ** 0.5) + 1))] # filter out the non-prime factors using a list comprehension\n",
        "print(\"The prime factors of\", n, \"are\", factors) # print the prime factors\n"
      ],
      "metadata": {
        "colab": {
          "base_uri": "https://localhost:8080/"
        },
        "id": "2WFtmHa7lQAa",
        "outputId": "2a302991-d64b-4eaf-ce11-bda7555e3ff7"
      },
      "execution_count": null,
      "outputs": [
        {
          "output_type": "stream",
          "name": "stdout",
          "text": [
            "The prime factors of 60 are [2, 3, 5]\n"
          ]
        }
      ]
    },
    {
      "cell_type": "code",
      "source": [
        "\n",
        "# A program that extracts unique elements from a list and stores them in a new list using a list comprehension\n",
        "\n",
        "numbers = [1, 2, 3, 4, 5, 3, 2, 1] # a list of numbers\n",
        "unique = [] # an empty list to store the unique elements\n",
        "[unique.append(num) for num in numbers if num not in unique] # a list comprehension that appends each number to unique if it is not already in it\n",
        "print(\"The unique elements from the list are\", unique) # print the unique elements\n",
        "\n"
      ],
      "metadata": {
        "colab": {
          "base_uri": "https://localhost:8080/"
        },
        "id": "scqag_hGlQWf",
        "outputId": "6450525a-e720-49c4-b3f0-6de4fb119560"
      },
      "execution_count": null,
      "outputs": [
        {
          "output_type": "stream",
          "name": "stdout",
          "text": [
            "The unique elements from the list are [1, 2, 3, 4, 5]\n"
          ]
        }
      ]
    },
    {
      "cell_type": "code",
      "source": [
        "\n",
        "# A program that generates a list of all palindromic numbers up to a specified limit using a list comprehension\n",
        "\n",
        "limit = 1000 # the upper limit (exclusive)\n",
        "palindromes = [num for num in range(1, limit) if str(num) == str(num)[::-1]] # a list comprehension that checks if each number is equal to its reverse\n",
        "print(\"The palindromic numbers up to\", limit, \"are\", palindromes) # print the palindromic numbers\n",
        "\n"
      ],
      "metadata": {
        "colab": {
          "base_uri": "https://localhost:8080/"
        },
        "id": "lY_sDWjelQl2",
        "outputId": "23468ca6-ee66-4dc8-b356-bdff3bbe08ef"
      },
      "execution_count": null,
      "outputs": [
        {
          "output_type": "stream",
          "name": "stdout",
          "text": [
            "The palindromic numbers up to 1000 are [1, 2, 3, 4, 5, 6, 7, 8, 9, 11, 22, 33, 44, 55, 66, 77, 88, 99, 101, 111, 121, 131, 141, 151, 161, 171, 181, 191, 202, 212, 222, 232, 242, 252, 262, 272, 282, 292, 303, 313, 323, 333, 343, 353, 363, 373, 383, 393, 404, 414, 424, 434, 444, 454, 464, 474, 484, 494, 505, 515, 525, 535, 545, 555, 565, 575, 585, 595, 606, 616, 626, 636, 646, 656, 666, 676, 686, 696, 707, 717, 727, 737, 747, 757, 767, 777, 787, 797, 808, 818, 828, 838, 848, 858, 868, 878, 888, 898, 909, 919, 929, 939, 949, 959, 969, 979, 989, 999]\n"
          ]
        }
      ]
    },
    {
      "cell_type": "code",
      "source": [
        "\n",
        "# A program that generates a list of all palindromic numbers up to a specified limit using a list comprehension\n",
        "\n",
        "limit = 1000 # the upper limit (exclusive)\n",
        "palindromes = [num for num in range(1, limit) if str(num) == str(num)[::-1]] # a list comprehension that checks if each number is equal to its reverse\n",
        "print(\"The palindromic numbers up to\", limit, \"are\", palindromes) # print the palindromic numbers\n",
        "\n"
      ],
      "metadata": {
        "colab": {
          "base_uri": "https://localhost:8080/"
        },
        "id": "EKAxIu8ElQ3O",
        "outputId": "4691ad27-f911-43de-ba28-96bf4d604864"
      },
      "execution_count": null,
      "outputs": [
        {
          "output_type": "stream",
          "name": "stdout",
          "text": [
            "The palindromic numbers up to 1000 are [1, 2, 3, 4, 5, 6, 7, 8, 9, 11, 22, 33, 44, 55, 66, 77, 88, 99, 101, 111, 121, 131, 141, 151, 161, 171, 181, 191, 202, 212, 222, 232, 242, 252, 262, 272, 282, 292, 303, 313, 323, 333, 343, 353, 363, 373, 383, 393, 404, 414, 424, 434, 444, 454, 464, 474, 484, 494, 505, 515, 525, 535, 545, 555, 565, 575, 585, 595, 606, 616, 626, 636, 646, 656, 666, 676, 686, 696, 707, 717, 727, 737, 747, 757, 767, 777, 787, 797, 808, 818, 828, 838, 848, 858, 868, 878, 888, 898, 909, 919, 929, 939, 949, 959, 969, 979, 989, 999]\n"
          ]
        }
      ]
    },
    {
      "cell_type": "code",
      "source": [
        "\n",
        "# A program that generates a list of squares of odd numbers between 1 and 10 using list comprehension\n",
        "\n",
        "squares = [num ** 2 for num in range(1,11) if num % 2 != 0] # generate the squares of odd numbers using a list comprehension\n",
        "print(\"The squares of odd numbers between 1 and 10 are\", squares) # print the squares\n",
        "\n"
      ],
      "metadata": {
        "colab": {
          "base_uri": "https://localhost:8080/"
        },
        "id": "kMLeySpdlRxb",
        "outputId": "63990820-20fd-4eb3-d83a-12a590738a23"
      },
      "execution_count": null,
      "outputs": [
        {
          "output_type": "stream",
          "name": "stdout",
          "text": [
            "The squares of odd numbers between 1 and 10 are [1, 9, 25, 49, 81]\n"
          ]
        }
      ]
    },
    {
      "cell_type": "code",
      "source": [
        "\n",
        "# A program that combines two lists into a dictionary using list comprehension\n",
        "\n",
        "keys = [\"name\", \"age\", \"gender\"] # a list of keys\n",
        "values = [\"Alice\", 25, \"female\"] # a list of values\n",
        "dictionary = {key: value for key, value in zip(keys, values)} # create a dictionary by zipping the keys and values using a list comprehension\n",
        "print(\"The dictionary is\", dictionary) # print the dictionary\n",
        "\n"
      ],
      "metadata": {
        "colab": {
          "base_uri": "https://localhost:8080/"
        },
        "id": "azws2WawlSCd",
        "outputId": "7e2740ab-b9b3-4f3d-f579-2b8eba601305"
      },
      "execution_count": null,
      "outputs": [
        {
          "output_type": "stream",
          "name": "stdout",
          "text": [
            "The dictionary is {'name': 'Alice', 'age': 25, 'gender': 'female'}\n"
          ]
        }
      ]
    },
    {
      "cell_type": "code",
      "source": [
        "\n",
        "# A program that extracts the vowels from a string and stores them in a list using list comprehension\n",
        "\n",
        "string = \"Python is awesome\" # a string\n",
        "vowels = \"aeiou\" # a string of vowels\n",
        "vowel_list = [char for char in string if char.lower() in vowels] # create a list of vowels from the string using a list comprehension\n",
        "print(\"The vowels in the string are\", vowel_list) # print the vowel list\n",
        "\n"
      ],
      "metadata": {
        "colab": {
          "base_uri": "https://localhost:8080/"
        },
        "id": "0Hivf_TTlSZk",
        "outputId": "5281d3a5-4c7f-49a8-8330-16ca591d62c3"
      },
      "execution_count": null,
      "outputs": [
        {
          "output_type": "stream",
          "name": "stdout",
          "text": [
            "The vowels in the string are ['o', 'i', 'a', 'e', 'o', 'e']\n"
          ]
        }
      ]
    },
    {
      "cell_type": "code",
      "source": [
        "\n",
        "# A program that removes all non-numeric characters from a list of strings using list comprehension\n",
        "\n",
        "strings = [\"abc123\", \"456def\", \"789ghi\"] # a list of strings\n",
        "numbers = [\"\".join([char for char in string if char.isdigit()]) for string in strings] # create a list of numbers by removing non-digits from each string using a list comprehension\n",
        "print(\"The numbers in the list are\", numbers) # print the numbers\n",
        "\n"
      ],
      "metadata": {
        "colab": {
          "base_uri": "https://localhost:8080/"
        },
        "id": "1tnbyoZUlSqn",
        "outputId": "7f468020-c583-4809-bc1b-64abdd70978d"
      },
      "execution_count": null,
      "outputs": [
        {
          "output_type": "stream",
          "name": "stdout",
          "text": [
            "The numbers in the list are ['123', '456', '789']\n"
          ]
        }
      ]
    },
    {
      "cell_type": "markdown",
      "source": [
        "# Challenge Level:\n"
      ],
      "metadata": {
        "id": "bDn2KNM-no7Y"
      }
    },
    {
      "cell_type": "markdown",
      "source": [
        "31. Write a program to generate a list of prime numbers using the Sieve of Eratosthenes algorithm and list\n",
        "comprehension.\n",
        "32. Create a program that generates a list of all Pythagorean triplets up to a specified limit using list\n",
        "comprehension.\n",
        "33. Develop a program that generates a list of all possible combinations of two lists using list comprehension.\n",
        "34. Write a program that calculates the mean, median, and mode of a list of numbers using list\n",
        "comprehension.\n",
        "35. Create a program that generates Pascal's triangle up to a specified number of rows using list\n",
        "comprehension.\n",
        "36. Develop a program that calculates the sum of the digits of a factorial of numbers from 1 to 5 using list\n",
        "comprehension.\n",
        "37. Write a program that finds the longest word in a sentence using list comprehension.\n",
        "38. Create a program that filters a list of strings to include only those with more than three vowels using list\n",
        "comprehension.\n",
        "39. Develop a program that calculates the sum of the digits of numbers from 1 to 1000 using list\n",
        "comprehension.\n",
        "40. Write a program that generates a list of prime palindromic numbers using list comprehension."
      ],
      "metadata": {
        "id": "4BPftLrUnvLs"
      }
    },
    {
      "cell_type": "code",
      "source": [
        "# A program to generate a list of prime numbers using the Sieve of Eratosthenes algorithm and list comprehension\n",
        "limit = 100 # the upper limit (exclusive)\n",
        "numbers = list(range(2, limit)) # a list of numbers from 2 to limit - 1\n",
        "for i in range(2, int(limit ** 0.5) + 1): # iterate over the possible divisors from 2 to sqrt(limit)\n",
        "    numbers = [num for num in numbers if num == i or num % i != 0] # filter out the multiples of i using a list comprehension\n",
        "primes = numbers # assign the remaining numbers to primes\n",
        "print(\"The prime numbers up to\", limit, \"are\", primes) # print the primes\n"
      ],
      "metadata": {
        "colab": {
          "base_uri": "https://localhost:8080/"
        },
        "id": "uYul7kBLnuKt",
        "outputId": "613a72a9-1567-45e2-d3e6-748f4c343d68"
      },
      "execution_count": null,
      "outputs": [
        {
          "output_type": "stream",
          "name": "stdout",
          "text": [
            "The prime numbers up to 100 are [2, 3, 5, 7, 11, 13, 17, 19, 23, 29, 31, 37, 41, 43, 47, 53, 59, 61, 67, 71, 73, 79, 83, 89, 97]\n"
          ]
        }
      ]
    },
    {
      "cell_type": "code",
      "source": [
        "# A program that generates a list of all Pythagorean triplets up to a specified limit using a list comprehension\n",
        "limit = 20 # the upper limit (exclusive) for the sides of the triangle\n",
        "triplets = [(a, b, c) for a in range(1, limit) for b in range(a + 1, limit) for c in range(b + 1, limit) if a ** 2 + b ** 2 == c ** 2] # a list comprehension that checks if a, b, and c form a Pythagorean triplet\n",
        "print(\"The Pythagorean triplets up to\", limit, \"are\", triplets) # print the triplets\n"
      ],
      "metadata": {
        "colab": {
          "base_uri": "https://localhost:8080/"
        },
        "id": "lETIvTDPn_Vp",
        "outputId": "a83ca2c4-c684-4b91-f6cb-5aa81831ba79"
      },
      "execution_count": null,
      "outputs": [
        {
          "output_type": "stream",
          "name": "stdout",
          "text": [
            "The Pythagorean triplets up to 20 are [(3, 4, 5), (5, 12, 13), (6, 8, 10), (8, 15, 17), (9, 12, 15)]\n"
          ]
        }
      ]
    },
    {
      "cell_type": "code",
      "source": [
        "\n",
        "# A program that generates a list of all possible combinations of two lists using list comprehension\n",
        "\n",
        "list1 = [\"a\", \"b\", \"c\"] # the first list\n",
        "list2 = [1, 2, 3] # the second list\n",
        "combinations = [(x, y) for x in list1 for y in list2] # a list comprehension that creates pairs from each element of list1 and list2\n",
        "print(\"The combinations of the two lists are\", combinations) # print the combinations\n",
        "\n"
      ],
      "metadata": {
        "colab": {
          "base_uri": "https://localhost:8080/"
        },
        "id": "7ZxSH5Can_sZ",
        "outputId": "c1815342-ca26-4e27-e0d8-d1e43e1826f3"
      },
      "execution_count": null,
      "outputs": [
        {
          "output_type": "stream",
          "name": "stdout",
          "text": [
            "The combinations of the two lists are [('a', 1), ('a', 2), ('a', 3), ('b', 1), ('b', 2), ('b', 3), ('c', 1), ('c', 2), ('c', 3)]\n"
          ]
        }
      ]
    },
    {
      "cell_type": "code",
      "source": [
        "\n",
        "# A program that calculates the mean, median, and mode of a list of numbers using list comprehension\n",
        "\n",
        "numbers = [1, 2, 3, 4, 5, 4, 3, 2, 1] # a list of numbers\n",
        "n = len(numbers) # the length of the list\n",
        "mean = sum(numbers) / n # calculate the mean by dividing the sum by the length\n",
        "sorted_numbers = sorted(numbers) # sort the numbers in ascending order\n",
        "if n % 2 == 0: # check if n is even\n",
        "    median = (sorted_numbers[n // 2 - 1] + sorted_numbers[n // 2]) / 2 # calculate the median by averaging the middle two elements\n",
        "else: # otherwise (n is odd)\n",
        "    median = sorted_numbers[n // 2] # calculate the median by taking the middle element\n",
        "counts = {num: numbers.count(num) for num in set(numbers)} # create a dictionary that maps each unique number to its frequency using a list comprehension\n",
        "mode = max(counts, key=counts.get) # find the mode by taking the key with the highest value in counts\n",
        "print(\"The mean of the numbers is\", mean) # print the mean\n",
        "print(\"The median of the numbers is\", median) # print the median\n",
        "print(\"The mode of the numbers is\", mode) # print the mode\n",
        "\n"
      ],
      "metadata": {
        "colab": {
          "base_uri": "https://localhost:8080/",
          "height": 245
        },
        "id": "quyQ_TSmoABG",
        "outputId": "9da5c267-9c3c-402f-d85e-0d9858d601a9"
      },
      "execution_count": null,
      "outputs": [
        {
          "output_type": "error",
          "ename": "TypeError",
          "evalue": "ignored",
          "traceback": [
            "\u001b[0;31m---------------------------------------------------------------------------\u001b[0m",
            "\u001b[0;31mTypeError\u001b[0m                                 Traceback (most recent call last)",
            "\u001b[0;32m<ipython-input-76-b1de4cf42208>\u001b[0m in \u001b[0;36m<cell line: 5>\u001b[0;34m()\u001b[0m\n\u001b[1;32m      3\u001b[0m \u001b[0mnumbers\u001b[0m \u001b[0;34m=\u001b[0m \u001b[0;34m[\u001b[0m\u001b[0;36m1\u001b[0m\u001b[0;34m,\u001b[0m \u001b[0;36m2\u001b[0m\u001b[0;34m,\u001b[0m \u001b[0;36m3\u001b[0m\u001b[0;34m,\u001b[0m \u001b[0;36m4\u001b[0m\u001b[0;34m,\u001b[0m \u001b[0;36m5\u001b[0m\u001b[0;34m,\u001b[0m \u001b[0;36m4\u001b[0m\u001b[0;34m,\u001b[0m \u001b[0;36m3\u001b[0m\u001b[0;34m,\u001b[0m \u001b[0;36m2\u001b[0m\u001b[0;34m,\u001b[0m \u001b[0;36m1\u001b[0m\u001b[0;34m]\u001b[0m \u001b[0;31m# a list of numbers\u001b[0m\u001b[0;34m\u001b[0m\u001b[0;34m\u001b[0m\u001b[0m\n\u001b[1;32m      4\u001b[0m \u001b[0mn\u001b[0m \u001b[0;34m=\u001b[0m \u001b[0mlen\u001b[0m\u001b[0;34m(\u001b[0m\u001b[0mnumbers\u001b[0m\u001b[0;34m)\u001b[0m \u001b[0;31m# the length of the list\u001b[0m\u001b[0;34m\u001b[0m\u001b[0;34m\u001b[0m\u001b[0m\n\u001b[0;32m----> 5\u001b[0;31m \u001b[0mmean\u001b[0m \u001b[0;34m=\u001b[0m \u001b[0msum\u001b[0m\u001b[0;34m(\u001b[0m\u001b[0mnumbers\u001b[0m\u001b[0;34m)\u001b[0m \u001b[0;34m/\u001b[0m \u001b[0mn\u001b[0m \u001b[0;31m# calculate the mean by dividing the sum by the length\u001b[0m\u001b[0;34m\u001b[0m\u001b[0;34m\u001b[0m\u001b[0m\n\u001b[0m\u001b[1;32m      6\u001b[0m \u001b[0msorted_numbers\u001b[0m \u001b[0;34m=\u001b[0m \u001b[0msorted\u001b[0m\u001b[0;34m(\u001b[0m\u001b[0mnumbers\u001b[0m\u001b[0;34m)\u001b[0m \u001b[0;31m# sort the numbers in ascending order\u001b[0m\u001b[0;34m\u001b[0m\u001b[0;34m\u001b[0m\u001b[0m\n\u001b[1;32m      7\u001b[0m \u001b[0;32mif\u001b[0m \u001b[0mn\u001b[0m \u001b[0;34m%\u001b[0m \u001b[0;36m2\u001b[0m \u001b[0;34m==\u001b[0m \u001b[0;36m0\u001b[0m\u001b[0;34m:\u001b[0m \u001b[0;31m# check if n is even\u001b[0m\u001b[0;34m\u001b[0m\u001b[0;34m\u001b[0m\u001b[0m\n",
            "\u001b[0;31mTypeError\u001b[0m: 'int' object is not callable"
          ]
        }
      ]
    },
    {
      "cell_type": "code",
      "source": [
        "\n",
        "# A program that generates Pascal's triangle up to a specified number of rows using list comprehension\n",
        "\n",
        "rows = 5 # the number of rows for Pascal's triangle\n",
        "triangle = [[1]] # initialize triangle with the first row as [1]\n",
        "for i in range(1, rows): # iterate over each row from 1 to rows - 1\n",
        "    row = [1] + [triangle[i - 1][j - 1] + triangle[i - 1][j] for j in range(1, i)] + [1] # create each row by adding one at both ends and adding adjacent elements from previous row using a list comprehension\n",
        "    triangle.append(row) # append each row to triangle\n",
        "for row in triangle: # iterate over each row in triangle\n",
        "    print(row) # print each row\n",
        "\n"
      ],
      "metadata": {
        "colab": {
          "base_uri": "https://localhost:8080/"
        },
        "id": "10fV-0L2oARm",
        "outputId": "c9b4603c-d997-4e6d-afd9-8da9bc51b36f"
      },
      "execution_count": null,
      "outputs": [
        {
          "output_type": "stream",
          "name": "stdout",
          "text": [
            "[1]\n",
            "[1, 1]\n",
            "[1, 2, 1]\n",
            "[1, 3, 3, 1]\n",
            "[1, 4, 6, 4, 1]\n"
          ]
        }
      ]
    },
    {
      "cell_type": "code",
      "source": [
        "\n",
        "# A program that calculates the sum of the digits of a factorial of numbers from 1 to 5 using list comprehension\n",
        "\n",
        "from math import factorial # import the factorial function from math module\n",
        "numbers = [1, 2, 3, 4, 5] # a list of numbers from 1 to 5\n",
        "sums = [sum(int(digit) for digit in str(factorial(num))) for num in numbers] # a list comprehension that calculates the sum of digits of the factorial of each number\n",
        "print(\"The sums of the digits of the factorials are\", sums) # print the sums\n",
        "\n"
      ],
      "metadata": {
        "colab": {
          "base_uri": "https://localhost:8080/",
          "height": 401
        },
        "id": "t8YgvlksoAlC",
        "outputId": "146c9370-1b5f-4922-9cd0-fd0148de6dff"
      },
      "execution_count": null,
      "outputs": [
        {
          "output_type": "error",
          "ename": "TypeError",
          "evalue": "ignored",
          "traceback": [
            "\u001b[0;31m---------------------------------------------------------------------------\u001b[0m",
            "\u001b[0;31mTypeError\u001b[0m                                 Traceback (most recent call last)",
            "\u001b[0;32m<ipython-input-78-11e0b02cf105>\u001b[0m in \u001b[0;36m<cell line: 5>\u001b[0;34m()\u001b[0m\n\u001b[1;32m      3\u001b[0m \u001b[0;32mfrom\u001b[0m \u001b[0mmath\u001b[0m \u001b[0;32mimport\u001b[0m \u001b[0mfactorial\u001b[0m \u001b[0;31m# import the factorial function from math module\u001b[0m\u001b[0;34m\u001b[0m\u001b[0;34m\u001b[0m\u001b[0m\n\u001b[1;32m      4\u001b[0m \u001b[0mnumbers\u001b[0m \u001b[0;34m=\u001b[0m \u001b[0;34m[\u001b[0m\u001b[0;36m1\u001b[0m\u001b[0;34m,\u001b[0m \u001b[0;36m2\u001b[0m\u001b[0;34m,\u001b[0m \u001b[0;36m3\u001b[0m\u001b[0;34m,\u001b[0m \u001b[0;36m4\u001b[0m\u001b[0;34m,\u001b[0m \u001b[0;36m5\u001b[0m\u001b[0;34m]\u001b[0m \u001b[0;31m# a list of numbers from 1 to 5\u001b[0m\u001b[0;34m\u001b[0m\u001b[0;34m\u001b[0m\u001b[0m\n\u001b[0;32m----> 5\u001b[0;31m \u001b[0msums\u001b[0m \u001b[0;34m=\u001b[0m \u001b[0;34m[\u001b[0m\u001b[0msum\u001b[0m\u001b[0;34m(\u001b[0m\u001b[0mint\u001b[0m\u001b[0;34m(\u001b[0m\u001b[0mdigit\u001b[0m\u001b[0;34m)\u001b[0m \u001b[0;32mfor\u001b[0m \u001b[0mdigit\u001b[0m \u001b[0;32min\u001b[0m \u001b[0mstr\u001b[0m\u001b[0;34m(\u001b[0m\u001b[0mfactorial\u001b[0m\u001b[0;34m(\u001b[0m\u001b[0mnum\u001b[0m\u001b[0;34m)\u001b[0m\u001b[0;34m)\u001b[0m\u001b[0;34m)\u001b[0m \u001b[0;32mfor\u001b[0m \u001b[0mnum\u001b[0m \u001b[0;32min\u001b[0m \u001b[0mnumbers\u001b[0m\u001b[0;34m]\u001b[0m \u001b[0;31m# a list comprehension that calculates the sum of digits of the factorial of each number\u001b[0m\u001b[0;34m\u001b[0m\u001b[0;34m\u001b[0m\u001b[0m\n\u001b[0m\u001b[1;32m      6\u001b[0m \u001b[0mprint\u001b[0m\u001b[0;34m(\u001b[0m\u001b[0;34m\"The sums of the digits of the factorials are\"\u001b[0m\u001b[0;34m,\u001b[0m \u001b[0msums\u001b[0m\u001b[0;34m)\u001b[0m \u001b[0;31m# print the sums\u001b[0m\u001b[0;34m\u001b[0m\u001b[0;34m\u001b[0m\u001b[0m\n\u001b[1;32m      7\u001b[0m \u001b[0;34m\u001b[0m\u001b[0m\n",
            "\u001b[0;32m<ipython-input-78-11e0b02cf105>\u001b[0m in \u001b[0;36m<listcomp>\u001b[0;34m(.0)\u001b[0m\n\u001b[1;32m      3\u001b[0m \u001b[0;32mfrom\u001b[0m \u001b[0mmath\u001b[0m \u001b[0;32mimport\u001b[0m \u001b[0mfactorial\u001b[0m \u001b[0;31m# import the factorial function from math module\u001b[0m\u001b[0;34m\u001b[0m\u001b[0;34m\u001b[0m\u001b[0m\n\u001b[1;32m      4\u001b[0m \u001b[0mnumbers\u001b[0m \u001b[0;34m=\u001b[0m \u001b[0;34m[\u001b[0m\u001b[0;36m1\u001b[0m\u001b[0;34m,\u001b[0m \u001b[0;36m2\u001b[0m\u001b[0;34m,\u001b[0m \u001b[0;36m3\u001b[0m\u001b[0;34m,\u001b[0m \u001b[0;36m4\u001b[0m\u001b[0;34m,\u001b[0m \u001b[0;36m5\u001b[0m\u001b[0;34m]\u001b[0m \u001b[0;31m# a list of numbers from 1 to 5\u001b[0m\u001b[0;34m\u001b[0m\u001b[0;34m\u001b[0m\u001b[0m\n\u001b[0;32m----> 5\u001b[0;31m \u001b[0msums\u001b[0m \u001b[0;34m=\u001b[0m \u001b[0;34m[\u001b[0m\u001b[0msum\u001b[0m\u001b[0;34m(\u001b[0m\u001b[0mint\u001b[0m\u001b[0;34m(\u001b[0m\u001b[0mdigit\u001b[0m\u001b[0;34m)\u001b[0m \u001b[0;32mfor\u001b[0m \u001b[0mdigit\u001b[0m \u001b[0;32min\u001b[0m \u001b[0mstr\u001b[0m\u001b[0;34m(\u001b[0m\u001b[0mfactorial\u001b[0m\u001b[0;34m(\u001b[0m\u001b[0mnum\u001b[0m\u001b[0;34m)\u001b[0m\u001b[0;34m)\u001b[0m\u001b[0;34m)\u001b[0m \u001b[0;32mfor\u001b[0m \u001b[0mnum\u001b[0m \u001b[0;32min\u001b[0m \u001b[0mnumbers\u001b[0m\u001b[0;34m]\u001b[0m \u001b[0;31m# a list comprehension that calculates the sum of digits of the factorial of each number\u001b[0m\u001b[0;34m\u001b[0m\u001b[0;34m\u001b[0m\u001b[0m\n\u001b[0m\u001b[1;32m      6\u001b[0m \u001b[0mprint\u001b[0m\u001b[0;34m(\u001b[0m\u001b[0;34m\"The sums of the digits of the factorials are\"\u001b[0m\u001b[0;34m,\u001b[0m \u001b[0msums\u001b[0m\u001b[0;34m)\u001b[0m \u001b[0;31m# print the sums\u001b[0m\u001b[0;34m\u001b[0m\u001b[0;34m\u001b[0m\u001b[0m\n\u001b[1;32m      7\u001b[0m \u001b[0;34m\u001b[0m\u001b[0m\n",
            "\u001b[0;31mTypeError\u001b[0m: 'int' object is not callable"
          ]
        }
      ]
    },
    {
      "cell_type": "code",
      "source": [
        "\n",
        "# A program that finds the longest word in a sentence using list comprehension\n",
        "\n",
        "sentence = \"This is a sample sentence with some long words\" # a sentence\n",
        "words = sentence.split() # split the sentence into a list of words\n",
        "longest = max(words, key=len) # find the longest word by taking the word with the highest length\n",
        "print(\"The longest word in the sentence is\", longest) # print the longest word\n",
        "\n"
      ],
      "metadata": {
        "colab": {
          "base_uri": "https://localhost:8080/"
        },
        "id": "U0wYcm_XoA7m",
        "outputId": "41875bfe-f73a-4299-af50-d8ece64665ba"
      },
      "execution_count": null,
      "outputs": [
        {
          "output_type": "stream",
          "name": "stdout",
          "text": [
            "The longest word in the sentence is sentence\n"
          ]
        }
      ]
    },
    {
      "cell_type": "code",
      "source": [
        "\n",
        "# A program that filters a list of strings to include only those with more than three vowels using list comprehension\n",
        "\n",
        "strings = [\"apple\", \"banana\", \"orange\", \"grape\", \"watermelon\"] # a list of strings\n",
        "vowels = \"aeiou\" # a string of vowels\n",
        "filtered = [string for string in strings if sum(char.lower() in vowels for char in string) > 3] # a list comprehension that filters out the strings with more than three vowels\n",
        "print(\"The strings with more than three vowels are\", filtered) # print the filtered strings\n",
        "\n",
        "\n"
      ],
      "metadata": {
        "colab": {
          "base_uri": "https://localhost:8080/",
          "height": 401
        },
        "id": "n2rkpRxAoBa8",
        "outputId": "1efeeee4-73dc-466e-a815-1dc14cd7c992"
      },
      "execution_count": null,
      "outputs": [
        {
          "output_type": "error",
          "ename": "TypeError",
          "evalue": "ignored",
          "traceback": [
            "\u001b[0;31m---------------------------------------------------------------------------\u001b[0m",
            "\u001b[0;31mTypeError\u001b[0m                                 Traceback (most recent call last)",
            "\u001b[0;32m<ipython-input-81-c8543f21741b>\u001b[0m in \u001b[0;36m<cell line: 5>\u001b[0;34m()\u001b[0m\n\u001b[1;32m      3\u001b[0m \u001b[0mstrings\u001b[0m \u001b[0;34m=\u001b[0m \u001b[0;34m[\u001b[0m\u001b[0;34m\"apple\"\u001b[0m\u001b[0;34m,\u001b[0m \u001b[0;34m\"banana\"\u001b[0m\u001b[0;34m,\u001b[0m \u001b[0;34m\"orange\"\u001b[0m\u001b[0;34m,\u001b[0m \u001b[0;34m\"grape\"\u001b[0m\u001b[0;34m,\u001b[0m \u001b[0;34m\"watermelon\"\u001b[0m\u001b[0;34m]\u001b[0m \u001b[0;31m# a list of strings\u001b[0m\u001b[0;34m\u001b[0m\u001b[0;34m\u001b[0m\u001b[0m\n\u001b[1;32m      4\u001b[0m \u001b[0mvowels\u001b[0m \u001b[0;34m=\u001b[0m \u001b[0;34m\"aeiou\"\u001b[0m \u001b[0;31m# a string of vowels\u001b[0m\u001b[0;34m\u001b[0m\u001b[0;34m\u001b[0m\u001b[0m\n\u001b[0;32m----> 5\u001b[0;31m \u001b[0mfiltered\u001b[0m \u001b[0;34m=\u001b[0m \u001b[0;34m[\u001b[0m\u001b[0mstring\u001b[0m \u001b[0;32mfor\u001b[0m \u001b[0mstring\u001b[0m \u001b[0;32min\u001b[0m \u001b[0mstrings\u001b[0m \u001b[0;32mif\u001b[0m \u001b[0msum\u001b[0m\u001b[0;34m(\u001b[0m\u001b[0mchar\u001b[0m\u001b[0;34m.\u001b[0m\u001b[0mlower\u001b[0m\u001b[0;34m(\u001b[0m\u001b[0;34m)\u001b[0m \u001b[0;32min\u001b[0m \u001b[0mvowels\u001b[0m \u001b[0;32mfor\u001b[0m \u001b[0mchar\u001b[0m \u001b[0;32min\u001b[0m \u001b[0mstring\u001b[0m\u001b[0;34m)\u001b[0m \u001b[0;34m>\u001b[0m \u001b[0;36m3\u001b[0m\u001b[0;34m]\u001b[0m \u001b[0;31m# a list comprehension that filters out the strings with more than three vowels\u001b[0m\u001b[0;34m\u001b[0m\u001b[0;34m\u001b[0m\u001b[0m\n\u001b[0m\u001b[1;32m      6\u001b[0m \u001b[0mprint\u001b[0m\u001b[0;34m(\u001b[0m\u001b[0;34m\"The strings with more than three vowels are\"\u001b[0m\u001b[0;34m,\u001b[0m \u001b[0mfiltered\u001b[0m\u001b[0;34m)\u001b[0m \u001b[0;31m# print the filtered strings\u001b[0m\u001b[0;34m\u001b[0m\u001b[0;34m\u001b[0m\u001b[0m\n\u001b[1;32m      7\u001b[0m \u001b[0;34m\u001b[0m\u001b[0m\n",
            "\u001b[0;32m<ipython-input-81-c8543f21741b>\u001b[0m in \u001b[0;36m<listcomp>\u001b[0;34m(.0)\u001b[0m\n\u001b[1;32m      3\u001b[0m \u001b[0mstrings\u001b[0m \u001b[0;34m=\u001b[0m \u001b[0;34m[\u001b[0m\u001b[0;34m\"apple\"\u001b[0m\u001b[0;34m,\u001b[0m \u001b[0;34m\"banana\"\u001b[0m\u001b[0;34m,\u001b[0m \u001b[0;34m\"orange\"\u001b[0m\u001b[0;34m,\u001b[0m \u001b[0;34m\"grape\"\u001b[0m\u001b[0;34m,\u001b[0m \u001b[0;34m\"watermelon\"\u001b[0m\u001b[0;34m]\u001b[0m \u001b[0;31m# a list of strings\u001b[0m\u001b[0;34m\u001b[0m\u001b[0;34m\u001b[0m\u001b[0m\n\u001b[1;32m      4\u001b[0m \u001b[0mvowels\u001b[0m \u001b[0;34m=\u001b[0m \u001b[0;34m\"aeiou\"\u001b[0m \u001b[0;31m# a string of vowels\u001b[0m\u001b[0;34m\u001b[0m\u001b[0;34m\u001b[0m\u001b[0m\n\u001b[0;32m----> 5\u001b[0;31m \u001b[0mfiltered\u001b[0m \u001b[0;34m=\u001b[0m \u001b[0;34m[\u001b[0m\u001b[0mstring\u001b[0m \u001b[0;32mfor\u001b[0m \u001b[0mstring\u001b[0m \u001b[0;32min\u001b[0m \u001b[0mstrings\u001b[0m \u001b[0;32mif\u001b[0m \u001b[0msum\u001b[0m\u001b[0;34m(\u001b[0m\u001b[0mchar\u001b[0m\u001b[0;34m.\u001b[0m\u001b[0mlower\u001b[0m\u001b[0;34m(\u001b[0m\u001b[0;34m)\u001b[0m \u001b[0;32min\u001b[0m \u001b[0mvowels\u001b[0m \u001b[0;32mfor\u001b[0m \u001b[0mchar\u001b[0m \u001b[0;32min\u001b[0m \u001b[0mstring\u001b[0m\u001b[0;34m)\u001b[0m \u001b[0;34m>\u001b[0m \u001b[0;36m3\u001b[0m\u001b[0;34m]\u001b[0m \u001b[0;31m# a list comprehension that filters out the strings with more than three vowels\u001b[0m\u001b[0;34m\u001b[0m\u001b[0;34m\u001b[0m\u001b[0m\n\u001b[0m\u001b[1;32m      6\u001b[0m \u001b[0mprint\u001b[0m\u001b[0;34m(\u001b[0m\u001b[0;34m\"The strings with more than three vowels are\"\u001b[0m\u001b[0;34m,\u001b[0m \u001b[0mfiltered\u001b[0m\u001b[0;34m)\u001b[0m \u001b[0;31m# print the filtered strings\u001b[0m\u001b[0;34m\u001b[0m\u001b[0;34m\u001b[0m\u001b[0m\n\u001b[1;32m      7\u001b[0m \u001b[0;34m\u001b[0m\u001b[0m\n",
            "\u001b[0;31mTypeError\u001b[0m: 'int' object is not callable"
          ]
        }
      ]
    },
    {
      "cell_type": "code",
      "source": [
        "\n",
        "# A program that calculates the sum of the digits of numbers from 1 to 1000 using list comprehension\n",
        "sum_of_digits = sum([sum(int(digit) for digit in str(number)) for number in range(1, 1001)])\n",
        "print(sum_of_digits)\n",
        "\n"
      ],
      "metadata": {
        "colab": {
          "base_uri": "https://localhost:8080/",
          "height": 331
        },
        "id": "YpFYpkI_oB76",
        "outputId": "48696086-38f0-4424-c7b4-27e6b0816055"
      },
      "execution_count": null,
      "outputs": [
        {
          "output_type": "error",
          "ename": "TypeError",
          "evalue": "ignored",
          "traceback": [
            "\u001b[0;31m---------------------------------------------------------------------------\u001b[0m",
            "\u001b[0;31mTypeError\u001b[0m                                 Traceback (most recent call last)",
            "\u001b[0;32m<ipython-input-84-1abd5f33cd44>\u001b[0m in \u001b[0;36m<cell line: 2>\u001b[0;34m()\u001b[0m\n\u001b[1;32m      1\u001b[0m \u001b[0;31m# A program that calculates the sum of the digits of numbers from 1 to 1000 using list comprehension\u001b[0m\u001b[0;34m\u001b[0m\u001b[0;34m\u001b[0m\u001b[0m\n\u001b[0;32m----> 2\u001b[0;31m \u001b[0msum_of_digits\u001b[0m \u001b[0;34m=\u001b[0m \u001b[0msum\u001b[0m\u001b[0;34m(\u001b[0m\u001b[0;34m[\u001b[0m\u001b[0msum\u001b[0m\u001b[0;34m(\u001b[0m\u001b[0mint\u001b[0m\u001b[0;34m(\u001b[0m\u001b[0mdigit\u001b[0m\u001b[0;34m)\u001b[0m \u001b[0;32mfor\u001b[0m \u001b[0mdigit\u001b[0m \u001b[0;32min\u001b[0m \u001b[0mstr\u001b[0m\u001b[0;34m(\u001b[0m\u001b[0mnumber\u001b[0m\u001b[0;34m)\u001b[0m\u001b[0;34m)\u001b[0m \u001b[0;32mfor\u001b[0m \u001b[0mnumber\u001b[0m \u001b[0;32min\u001b[0m \u001b[0mrange\u001b[0m\u001b[0;34m(\u001b[0m\u001b[0;36m1\u001b[0m\u001b[0;34m,\u001b[0m \u001b[0;36m1001\u001b[0m\u001b[0;34m)\u001b[0m\u001b[0;34m]\u001b[0m\u001b[0;34m)\u001b[0m\u001b[0;34m\u001b[0m\u001b[0;34m\u001b[0m\u001b[0m\n\u001b[0m\u001b[1;32m      3\u001b[0m \u001b[0mprint\u001b[0m\u001b[0;34m(\u001b[0m\u001b[0msum_of_digits\u001b[0m\u001b[0;34m)\u001b[0m\u001b[0;34m\u001b[0m\u001b[0;34m\u001b[0m\u001b[0m\n\u001b[1;32m      4\u001b[0m \u001b[0;34m\u001b[0m\u001b[0m\n",
            "\u001b[0;32m<ipython-input-84-1abd5f33cd44>\u001b[0m in \u001b[0;36m<listcomp>\u001b[0;34m(.0)\u001b[0m\n\u001b[1;32m      1\u001b[0m \u001b[0;31m# A program that calculates the sum of the digits of numbers from 1 to 1000 using list comprehension\u001b[0m\u001b[0;34m\u001b[0m\u001b[0;34m\u001b[0m\u001b[0m\n\u001b[0;32m----> 2\u001b[0;31m \u001b[0msum_of_digits\u001b[0m \u001b[0;34m=\u001b[0m \u001b[0msum\u001b[0m\u001b[0;34m(\u001b[0m\u001b[0;34m[\u001b[0m\u001b[0msum\u001b[0m\u001b[0;34m(\u001b[0m\u001b[0mint\u001b[0m\u001b[0;34m(\u001b[0m\u001b[0mdigit\u001b[0m\u001b[0;34m)\u001b[0m \u001b[0;32mfor\u001b[0m \u001b[0mdigit\u001b[0m \u001b[0;32min\u001b[0m \u001b[0mstr\u001b[0m\u001b[0;34m(\u001b[0m\u001b[0mnumber\u001b[0m\u001b[0;34m)\u001b[0m\u001b[0;34m)\u001b[0m \u001b[0;32mfor\u001b[0m \u001b[0mnumber\u001b[0m \u001b[0;32min\u001b[0m \u001b[0mrange\u001b[0m\u001b[0;34m(\u001b[0m\u001b[0;36m1\u001b[0m\u001b[0;34m,\u001b[0m \u001b[0;36m1001\u001b[0m\u001b[0;34m)\u001b[0m\u001b[0;34m]\u001b[0m\u001b[0;34m)\u001b[0m\u001b[0;34m\u001b[0m\u001b[0;34m\u001b[0m\u001b[0m\n\u001b[0m\u001b[1;32m      3\u001b[0m \u001b[0mprint\u001b[0m\u001b[0;34m(\u001b[0m\u001b[0msum_of_digits\u001b[0m\u001b[0;34m)\u001b[0m\u001b[0;34m\u001b[0m\u001b[0;34m\u001b[0m\u001b[0m\n\u001b[1;32m      4\u001b[0m \u001b[0;34m\u001b[0m\u001b[0m\n",
            "\u001b[0;31mTypeError\u001b[0m: 'int' object is not callable"
          ]
        }
      ]
    },
    {
      "cell_type": "code",
      "source": [
        "\n",
        "# A program that generates a list of prime palindromic numbers using list comprehension\n",
        "\n",
        "limit = 1000 # the upper limit (exclusive) for the numbers\n",
        "numbers = list(range(2, limit)) # a list of numbers from 2 to limit - 1\n",
        "for i in range(2, int(limit ** 0.5) + 1): # iterate over the possible divisors from 2 to sqrt(limit)\n",
        "    numbers = [num for num in numbers if num == i or num % i != 0] # filter out the multiples of i using a list comprehension\n",
        "primes = numbers # assign the remaining numbers to primes\n",
        "palindromes = [num for num in primes if str(num) == str(num)[::-1]] # filter out the non-palindromic numbers using a list comprehension\n",
        "print(\"The prime palindromic numbers up to\", limit, \"are\", palindromes) # print the prime palindromic numbers\n",
        "\n"
      ],
      "metadata": {
        "colab": {
          "base_uri": "https://localhost:8080/"
        },
        "id": "AkRDE_jRoCQ3",
        "outputId": "5150b3e4-5293-4aad-c2fa-9b6dc2273b81"
      },
      "execution_count": null,
      "outputs": [
        {
          "output_type": "stream",
          "name": "stdout",
          "text": [
            "The prime palindromic numbers up to 1000 are [2, 3, 5, 7, 11, 101, 131, 151, 181, 191, 313, 353, 373, 383, 727, 757, 787, 797, 919, 929]\n"
          ]
        }
      ]
    }
  ]
}